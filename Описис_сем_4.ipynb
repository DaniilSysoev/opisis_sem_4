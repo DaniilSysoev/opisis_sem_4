{
  "nbformat": 4,
  "nbformat_minor": 0,
  "metadata": {
    "colab": {
      "provenance": [],
      "authorship_tag": "ABX9TyO+L+GjfAvGjTLFQwjBMJWL",
      "include_colab_link": true
    },
    "kernelspec": {
      "name": "python3",
      "display_name": "Python 3"
    },
    "language_info": {
      "name": "python"
    }
  },
  "cells": [
    {
      "cell_type": "markdown",
      "metadata": {
        "id": "view-in-github",
        "colab_type": "text"
      },
      "source": [
        "<a href=\"https://colab.research.google.com/github/DaniilSysoev/opisis_sem_4/blob/main/%D0%9E%D0%BF%D0%B8%D1%81%D0%B8%D1%81_%D1%81%D0%B5%D0%BC_4.ipynb\" target=\"_parent\"><img src=\"https://colab.research.google.com/assets/colab-badge.svg\" alt=\"Open In Colab\"/></a>"
      ]
    },
    {
      "cell_type": "markdown",
      "source": [
        "<h1>Фильтрация сигналов. Понятие идеального фильтра. Реализация с использованием преобразования Фурье.</h1>"
      ],
      "metadata": {
        "id": "_GEodUmp1toV"
      }
    },
    {
      "cell_type": "markdown",
      "source": [
        "<h2>Задание: При помощи модели фильтра, построенной на основе прямого и обратного преобразования Фурье, получить сигналы и их спектры после прохождения сигнала через ФНЧ, ПФ и ФВЧ с выделением по одной гармонической составляющей исходного сигнала.</h2>"
      ],
      "metadata": {
        "id": "OBRkzNat10KZ"
      }
    },
    {
      "cell_type": "markdown",
      "source": [
        "<h3>Введем необходимые для рассчетов библиотеки</h3>"
      ],
      "metadata": {
        "id": "iWD53--26X0K"
      }
    },
    {
      "cell_type": "code",
      "execution_count": 106,
      "metadata": {
        "id": "rmnanwQD1rUJ"
      },
      "outputs": [],
      "source": [
        "import numpy as np\n",
        "from math import *\n",
        "import matplotlib.pyplot as plt"
      ]
    },
    {
      "cell_type": "markdown",
      "source": [
        "<h3>Добавим функцию построения сигнала</h3>"
      ],
      "metadata": {
        "id": "426hQlVQ6dVo"
      }
    },
    {
      "cell_type": "code",
      "source": [
        "def signal(x):\n",
        "    return 1 + np.sin(2.0*pi*x) + 2.0 * np.cos(4.0*pi*x) + 0.5 * np.cos(6.0*pi*x)"
      ],
      "metadata": {
        "id": "kSYHwx9V6hjQ"
      },
      "execution_count": 107,
      "outputs": []
    },
    {
      "cell_type": "markdown",
      "source": [
        "<h3>Добавим функцию фильтра</h3>"
      ],
      "metadata": {
        "id": "H598ByE66i1W"
      }
    },
    {
      "cell_type": "code",
      "source": [
        "def filter(time, signal, fl, fh):\n",
        "    n = len(signal)\n",
        "    freq = np.fft.fftfreq(n, time[1]-time[0])\n",
        "    spectr = np.fft.fft(signal)\n",
        "    for i in range(n):\n",
        "        if not fl <= abs(freq[i]) <= fh:\n",
        "            spectr[i] *= 0+0j\n",
        "    return np.fft.ifft(spectr)"
      ],
      "metadata": {
        "id": "yiriA5qo7JR9"
      },
      "execution_count": 108,
      "outputs": []
    },
    {
      "cell_type": "markdown",
      "source": [
        "<h3>Введем необходимые переменные, для вычисления сигнала</h3>"
      ],
      "metadata": {
        "id": "KaTreeCh7NS-"
      }
    },
    {
      "cell_type": "markdown",
      "source": [
        "<h4>Входыне данные</h4>\n",
        "<h5>Частота 1-ой гармоники сигнала: 10<br>Временной интервал: 5<br>Число временных отсчетов: 1000000</h5>"
      ],
      "metadata": {
        "id": "4k-PQVN-7l5q"
      }
    },
    {
      "cell_type": "code",
      "source": [
        "f = float(input('Частота 1-ой гармоники сигнала '))\n",
        "T = float(input('Временной интервал '))\n",
        "n = int(input('Число временных отсчетов '))"
      ],
      "metadata": {
        "colab": {
          "base_uri": "https://localhost:8080/"
        },
        "id": "Wc2s_Wgb7kDq",
        "outputId": "2c015632-d7e4-4ecf-d337-b93b190f3ae8"
      },
      "execution_count": 109,
      "outputs": [
        {
          "name": "stdout",
          "output_type": "stream",
          "text": [
            "Частота 1-ой гармоники сигнала 10\n",
            "Временной интервал 5\n",
            "Число временных отсчетов 1000000\n"
          ]
        }
      ]
    },
    {
      "cell_type": "markdown",
      "source": [
        "<h3>Построим временную шкалу и сигнал по ней</h3>"
      ],
      "metadata": {
        "id": "fH6noyvD9Chj"
      }
    },
    {
      "cell_type": "code",
      "source": [
        "t = np.linspace(0, T, n)\n",
        "u = signal(f*t)"
      ],
      "metadata": {
        "id": "sw50Oan79HQH"
      },
      "execution_count": 110,
      "outputs": []
    },
    {
      "cell_type": "markdown",
      "source": [
        "<h3>Произведем рассчет БПФ и введем частотную шкалу</h3>"
      ],
      "metadata": {
        "id": "WkCFwM339OSc"
      }
    },
    {
      "cell_type": "code",
      "source": [
        "spec = np.fft.fft(u)\n",
        "freq = np.fft.fftfreq(n, T/n)"
      ],
      "metadata": {
        "id": "I5f2FbOi9TF1"
      },
      "execution_count": 111,
      "outputs": []
    },
    {
      "cell_type": "markdown",
      "source": [
        "<h3>Произведем рассчет для фильтра низких частот, полосного фильтра и фильтра высоких частот</h3>"
      ],
      "metadata": {
        "id": "6FWKjzFZ9VHn"
      }
    },
    {
      "cell_type": "code",
      "source": [
        "print('Расчет ФНЧ...')\n",
        "sig_lf = filter(t, u, 0.5*f, 1.5*f)\n",
        "print('Расчет ПФ...')\n",
        "sig_pb = filter(t, u, 1.5*f, 2.5*f)\n",
        "print('Расчет ФВЧ...')\n",
        "sig_hf = filter(t, u, 2.5*f, 4*f)"
      ],
      "metadata": {
        "colab": {
          "base_uri": "https://localhost:8080/"
        },
        "id": "gzDO73Iu9b_A",
        "outputId": "0c0e4413-4f5d-4f24-82bd-adbaecfaf45c"
      },
      "execution_count": 112,
      "outputs": [
        {
          "output_type": "stream",
          "name": "stdout",
          "text": [
            "Расчет ФНЧ...\n",
            "Расчет ПФ...\n",
            "Расчет ФВЧ...\n"
          ]
        }
      ]
    },
    {
      "cell_type": "markdown",
      "source": [
        "<h3>Произведем рассчет БПФ для полученных сигналов, прошедших через фильтр</h3>"
      ],
      "metadata": {
        "id": "n8FKcFkQ9e3X"
      }
    },
    {
      "cell_type": "code",
      "source": [
        "spec_lf = np.fft.fft(sig_lf)\n",
        "spec_pb = np.fft.fft(sig_pb)\n",
        "spec_hf = np.fft.fft(sig_hf)"
      ],
      "metadata": {
        "id": "IeuUjlh09mn-"
      },
      "execution_count": 113,
      "outputs": []
    },
    {
      "cell_type": "markdown",
      "source": [],
      "metadata": {
        "id": "oV63wjRh9pFS"
      }
    },
    {
      "cell_type": "markdown",
      "source": [
        "<h3>Построим модель исходного сигнала</h3>"
      ],
      "metadata": {
        "id": "O754PEd99ykD"
      }
    },
    {
      "cell_type": "code",
      "source": [
        "fig, ax = plt.subplots()\n",
        "ax.plot(t, u, color='tab:green')\n",
        "ax.set_xlabel(\"$t$, отн. ед.\", fontsize=10)\n",
        "ax.set_ylabel(\"$U(t)$, В\", fontsize=10)\n",
        "ax.set_xlim(0, 1/f)"
      ],
      "metadata": {
        "colab": {
          "base_uri": "https://localhost:8080/",
          "height": 299
        },
        "id": "DQgdZOyy9qYX",
        "outputId": "7c51c6b8-ad98-4344-eb25-71740be4e415"
      },
      "execution_count": 114,
      "outputs": [
        {
          "output_type": "execute_result",
          "data": {
            "text/plain": [
              "(0.0, 0.1)"
            ]
          },
          "metadata": {},
          "execution_count": 114
        },
        {
          "output_type": "display_data",
          "data": {
            "text/plain": [
              "<Figure size 432x288 with 1 Axes>"
            ],
            "image/png": "[encoded data removed]"
          },
          "metadata": {
            "needs_background": "light"
          }
        }
      ]
    },
    {
      "cell_type": "markdown",
      "source": [
        "<h3>Построим спектр заданного сигнала</h3>"
      ],
      "metadata": {
        "id": "KTwlmuuq92oG"
      }
    },
    {
      "cell_type": "code",
      "source": [
        "fig, ax = plt.subplots()\n",
        "ax.plot(freq[0:n//2], (np.hypot(spec.real, spec.imag)/n*2.0)[0:n//2])\n",
        "ax.set_xlabel(\"$f$, отн. ед.\", fontsize=10)\n",
        "ax.set_ylabel(\"$U(f)$, В\", fontsize=10)\n",
        "ax.set_xlim(-0.1*f, 4*f)"
      ],
      "metadata": {
        "colab": {
          "base_uri": "https://localhost:8080/",
          "height": 299
        },
        "id": "MW1Xl7KV-2Sh",
        "outputId": "a461ff3a-5969-4ae5-b3fd-ff5eaf3b0191"
      },
      "execution_count": 115,
      "outputs": [
        {
          "output_type": "execute_result",
          "data": {
            "text/plain": [
              "(-1.0, 40.0)"
            ]
          },
          "metadata": {},
          "execution_count": 115
        },
        {
          "output_type": "display_data",
          "data": {
            "text/plain": [
              "<Figure size 432x288 with 1 Axes>"
            ],
            "image/png": "[encoded data removed]"
          },
          "metadata": {
            "needs_background": "light"
          }
        }
      ]
    },
    {
      "cell_type": "markdown",
      "source": [
        "<h3>Построим модели сигнала, прошедшего через каждый фильтр</h3>"
      ],
      "metadata": {
        "id": "9Sw5_YRt-8WD"
      }
    },
    {
      "cell_type": "markdown",
      "source": [
        "<h4>Фильтр низких частот</h4>"
      ],
      "metadata": {
        "id": "6qGuBsKR_SvZ"
      }
    },
    {
      "cell_type": "code",
      "source": [
        "fig, ax = plt.subplots()\n",
        "ax.plot(t, sig_lf.real, label='ФНЧ')\n",
        "ax.set_xlabel(\"$t$, отн. ед.\", fontsize=10)\n",
        "ax.set_ylabel(\"$U(t)$, В\", fontsize=10)\n",
        "ax.legend(loc='best')\n",
        "ax.set_xlim(0, 1/f)"
      ],
      "metadata": {
        "colab": {
          "base_uri": "https://localhost:8080/",
          "height": 299
        },
        "id": "_peaufR1_EL7",
        "outputId": "6c490190-43e2-4d86-ed6c-ecd94f5ce4a2"
      },
      "execution_count": 116,
      "outputs": [
        {
          "output_type": "execute_result",
          "data": {
            "text/plain": [
              "(0.0, 0.1)"
            ]
          },
          "metadata": {},
          "execution_count": 116
        },
        {
          "output_type": "display_data",
          "data": {
            "text/plain": [
              "<Figure size 432x288 with 1 Axes>"
            ],
            "image/png": "[encoded data removed]"
          },
          "metadata": {
            "needs_background": "light"
          }
        }
      ]
    },
    {
      "cell_type": "markdown",
      "source": [
        "<h4>Полосный фильтр</h4>"
      ],
      "metadata": {
        "id": "-8DMMTka_Vle"
      }
    },
    {
      "cell_type": "code",
      "source": [
        "fig, ax = plt.subplots()\n",
        "ax.plot(t, sig_pb.real, label='ПФ')\n",
        "ax.set_xlabel(\"$t$, отн. ед.\", fontsize=10)\n",
        "ax.set_ylabel(\"$U(t)$, В\", fontsize=10)\n",
        "ax.legend(loc='best')\n",
        "ax.set_xlim(0, 1/f)\n"
      ],
      "metadata": {
        "colab": {
          "base_uri": "https://localhost:8080/",
          "height": 299
        },
        "id": "wpK192G5_ZzG",
        "outputId": "cee5ba38-898e-4b55-9c2b-c493d2e61082"
      },
      "execution_count": 117,
      "outputs": [
        {
          "output_type": "execute_result",
          "data": {
            "text/plain": [
              "(0.0, 0.1)"
            ]
          },
          "metadata": {},
          "execution_count": 117
        },
        {
          "output_type": "display_data",
          "data": {
            "text/plain": [
              "<Figure size 432x288 with 1 Axes>"
            ],
            "image/png": "[encoded data removed]"
          },
          "metadata": {
            "needs_background": "light"
          }
        }
      ]
    },
    {
      "cell_type": "markdown",
      "source": [
        "<h4>Фильтр высоких частот</h4>"
      ],
      "metadata": {
        "id": "YFnMraxu_gVs"
      }
    },
    {
      "cell_type": "code",
      "source": [
        "fig, ax = plt.subplots()\n",
        "ax.plot(t, sig_hf.real, label='ФВЧ')\n",
        "ax.set_xlabel(\"$t$, отн. ед.\", fontsize=10)\n",
        "ax.set_ylabel(\"$U(t)$, В\", fontsize=10)\n",
        "ax.legend(loc='best')\n",
        "ax.set_xlim(0, 1/f)\n"
      ],
      "metadata": {
        "colab": {
          "base_uri": "https://localhost:8080/",
          "height": 299
        },
        "id": "7bpi3AyR_jtH",
        "outputId": "189a61f2-ad34-46fb-e14e-4f6728ab3e1b"
      },
      "execution_count": 118,
      "outputs": [
        {
          "output_type": "execute_result",
          "data": {
            "text/plain": [
              "(0.0, 0.1)"
            ]
          },
          "metadata": {},
          "execution_count": 118
        },
        {
          "output_type": "display_data",
          "data": {
            "text/plain": [
              "<Figure size 432x288 with 1 Axes>"
            ],
            "image/png": "[encoded data removed]"
          },
          "metadata": {
            "needs_background": "light"
          }
        }
      ]
    },
    {
      "cell_type": "markdown",
      "source": [
        "<h3>Как мы видим, пройдя через каждый фильтр у нас осталась соответствующая частотная составляющая. Поэтому сигнал имеет вид синусоиды с определенной частотой, которую фильтр пропустил</h3>"
      ],
      "metadata": {
        "id": "LitdE4jY_m7x"
      }
    },
    {
      "cell_type": "markdown",
      "source": [
        "<h3>Построим спектры для каждого фильтра</h3>"
      ],
      "metadata": {
        "id": "4O4TfylJ_2V4"
      }
    },
    {
      "cell_type": "markdown",
      "source": [
        "<h4>Фильтр низких частот</h4>"
      ],
      "metadata": {
        "id": "k-wBOfSj_6cj"
      }
    },
    {
      "cell_type": "code",
      "source": [
        "fig, ax = plt.subplots()\n",
        "ax.plot(freq[0:n//2], (np.hypot(spec_lf.real, spec_lf.imag)/n*2.0)[0:n//2], label='ФНЧ')\n",
        "ax.set_xlabel(\"$f$, отн. ед.\", fontsize=10)\n",
        "ax.set_ylabel(\"$U(f)$, В\", fontsize=10)\n",
        "ax.set_xlim(-0.1*f, 4*f)\n",
        "ax.legend(loc='best')"
      ],
      "metadata": {
        "colab": {
          "base_uri": "https://localhost:8080/",
          "height": 299
        },
        "id": "86EX-u5K_0MN",
        "outputId": "3b626b74-7632-4c02-9122-0a33b5492489"
      },
      "execution_count": 119,
      "outputs": [
        {
          "output_type": "execute_result",
          "data": {
            "text/plain": [
              "<matplotlib.legend.Legend at 0x7f9bdf17b0a0>"
            ]
          },
          "metadata": {},
          "execution_count": 119
        },
        {
          "output_type": "display_data",
          "data": {
            "text/plain": [
              "<Figure size 432x288 with 1 Axes>"
            ],
            "image/png": "[encoded data removed]"
          },
          "metadata": {
            "needs_background": "light"
          }
        }
      ]
    },
    {
      "cell_type": "markdown",
      "source": [
        "<h4>Полосный фильтр</h4>"
      ],
      "metadata": {
        "id": "CF3qUrSEAGAA"
      }
    },
    {
      "cell_type": "code",
      "source": [
        "fig, ax = plt.subplots()\n",
        "ax.plot(freq[0:n//2], (np.hypot(spec_pb.real, spec_pb.imag)/n*2.0)[0:n//2], label='ПФ')\n",
        "ax.set_xlabel(\"$f$, отн. ед.\", fontsize=10)\n",
        "ax.set_ylabel(\"$U(f)$, В\", fontsize=10)\n",
        "ax.set_xlim(-0.1*f, 4*f)\n",
        "ax.legend(loc='best')"
      ],
      "metadata": {
        "colab": {
          "base_uri": "https://localhost:8080/",
          "height": 299
        },
        "id": "MunU3XsyAJDT",
        "outputId": "ed0fed28-6678-4344-934d-3c16cd88d9d8"
      },
      "execution_count": 120,
      "outputs": [
        {
          "output_type": "execute_result",
          "data": {
            "text/plain": [
              "<matplotlib.legend.Legend at 0x7f9bdec84100>"
            ]
          },
          "metadata": {},
          "execution_count": 120
        },
        {
          "output_type": "display_data",
          "data": {
            "text/plain": [
              "<Figure size 432x288 with 1 Axes>"
            ],
            "image/png": "[encoded data removed]"
          },
          "metadata": {
            "needs_background": "light"
          }
        }
      ]
    },
    {
      "cell_type": "markdown",
      "source": [
        "<h4>Фильтр высоких частот</h4>"
      ],
      "metadata": {
        "id": "BtpMxjXAALpJ"
      }
    },
    {
      "cell_type": "code",
      "source": [
        "fig, ax = plt.subplots()\n",
        "ax.plot(freq[0:n//2], (np.hypot(spec_hf.real, spec_hf.imag)/n*2.0)[0:n//2], label='ФВЧ')\n",
        "ax.set_xlabel(\"$f$, отн. ед.\", fontsize=10)\n",
        "ax.set_ylabel(\"$U(f)$, В\", fontsize=10)\n",
        "ax.set_xlim(-0.1*f, 4*f)\n",
        "ax.legend(loc='best')"
      ],
      "metadata": {
        "colab": {
          "base_uri": "https://localhost:8080/",
          "height": 299
        },
        "id": "xtD53DCHAOrb",
        "outputId": "96e39c0f-1571-4764-c8ed-9b4fce3a0fcd"
      },
      "execution_count": 121,
      "outputs": [
        {
          "output_type": "execute_result",
          "data": {
            "text/plain": [
              "<matplotlib.legend.Legend at 0x7f9bdec34520>"
            ]
          },
          "metadata": {},
          "execution_count": 121
        },
        {
          "output_type": "display_data",
          "data": {
            "text/plain": [
              "<Figure size 432x288 with 1 Axes>"
            ],
            "image/png": "[encoded data removed]"
          },
          "metadata": {
            "needs_background": "light"
          }
        }
      ]
    },
    {
      "cell_type": "markdown",
      "source": [
        "<h2>Дополнительное задание: Построить графики одиночного видеосигнала после прохождения через ФНЧ с верхней граничной частотой, соответствующей 3 первым лепесткам, 1 главному лепестку и 0.5 главного лепестка спектра исходного прямоугольного импульса, а также при прохождении ФВЧ с нижней граничной частотой, равной частоте 0,5 главного лепестка спектра исходного сигнала.</h2>"
      ],
      "metadata": {
        "id": "Yvb_d48b7u2r"
      }
    },
    {
      "cell_type": "markdown",
      "source": [
        "<h3>Напишем функцию для построения непериодического видеоимпульса с заданной длинной и началом импульса</h3>"
      ],
      "metadata": {
        "id": "hePHg2AB9lbn"
      }
    },
    {
      "cell_type": "code",
      "source": [
        "def signal(x):\n",
        "    return np.int8([(x < c + c0) & (c < x)]).flatten()"
      ],
      "metadata": {
        "id": "GFjijcRL993i"
      },
      "execution_count": 135,
      "outputs": []
    },
    {
      "cell_type": "markdown",
      "source": [
        "<h3>Введем функцию фильтра</h3>"
      ],
      "metadata": {
        "id": "lJ2YuhBdPT7O"
      }
    },
    {
      "cell_type": "code",
      "source": [
        "def filter(time, signal, fl, fh):\n",
        "    n = len(signal)\n",
        "    freq = np.fft.fftfreq(n, time[1]-time[0])\n",
        "    spectr = np.fft.fft(signal)\n",
        "    for i in range(n):\n",
        "        if not fl <= abs(freq[i]) <= fh:\n",
        "            spectr[i] *= 0+0j\n",
        "    return np.fft.ifft(spectr)"
      ],
      "metadata": {
        "id": "8-CX4R3aPZUo"
      },
      "execution_count": 136,
      "outputs": []
    },
    {
      "cell_type": "markdown",
      "source": [
        "<h3>Введем начало, длину видеоимпульса, временной интервал и количество отсчетов</h3>\n",
        "<h4>Входные данные:<h4>\n",
        "<h5>Начало отсчета: 1<br>Длина импульса: 1<br>Временной интервал: 3<br>Число временных отсчетов: 3000000</h5>"
      ],
      "metadata": {
        "id": "vDBrc9tk9-7q"
      }
    },
    {
      "cell_type": "code",
      "source": [
        "c = float(input(\"Введите начало отсчета импульса \"))\n",
        "c0 = float(input(\"Введите длину импульса \"))\n",
        "T = float(input('Временной интервал '))\n",
        "n = int(input('Число временных отсчетов '))"
      ],
      "metadata": {
        "colab": {
          "base_uri": "https://localhost:8080/"
        },
        "id": "4Xmw7QD0-qzc",
        "outputId": "42ff316e-2868-4bee-ec81-e7531131524f"
      },
      "execution_count": 137,
      "outputs": [
        {
          "name": "stdout",
          "output_type": "stream",
          "text": [
            "Введите начало отсчета импульса 1\n",
            "Введите длину импульса 1\n",
            "Временной интервал 3\n",
            "Число временных отсчетов 3000000\n"
          ]
        }
      ]
    },
    {
      "cell_type": "code",
      "source": [
        "t = np.linspace(0, c + 2*c0, n)\n",
        "u = signal(t)\n",
        " \n",
        "spec = np.fft.fft(u)\n",
        "freq = np.fft.fftfreq(n, T/n)\n",
        "\n",
        "fl = 0\n",
        "fh = 4 / c0"
      ],
      "metadata": {
        "id": "uKGa3QM8gqwZ"
      },
      "execution_count": 138,
      "outputs": []
    },
    {
      "cell_type": "markdown",
      "source": [
        "<h3>Проведем вычисление сигнала через фильтры</h3>"
      ],
      "metadata": {
        "id": "tt98BCTZEDsx"
      }
    },
    {
      "cell_type": "code",
      "source": [
        "print('Расчет ФНЧ...')\n",
        "sig_lf = filter(t, u, 0, 0.5/tau)\n",
        "print('Расчет ПФ...')\n",
        "sig_pb = filter(t, u, 0, 0)\n",
        "print('Расчет ФВЧ...')\n",
        "sig_hf = filter(t, u, 0.5*tau, 10)\n",
        "print('Расчет заданного фильтра...')\n",
        "sig_uf = filter(t, u, fl, fh)\n"
      ],
      "metadata": {
        "colab": {
          "base_uri": "https://localhost:8080/"
        },
        "id": "2QLPISghEIpC",
        "outputId": "fc3673dc-21fb-4652-aef2-d800588a89ea"
      },
      "execution_count": 139,
      "outputs": [
        {
          "output_type": "stream",
          "name": "stdout",
          "text": [
            "Расчет ФНЧ...\n",
            "Расчет ПФ...\n",
            "Расчет ФВЧ...\n",
            "Расчет заданного фильтра...\n"
          ]
        }
      ]
    },
    {
      "cell_type": "markdown",
      "source": [
        "<h3>Проведем рассчет БПФ</h3>"
      ],
      "metadata": {
        "id": "KfFplMNAEXn9"
      }
    },
    {
      "cell_type": "code",
      "source": [
        "print('Расчет БПФ...')\n",
        "spec_lf = np.fft.fft(sig_lf)\n",
        "spec_uf = np.fft.fft(sig_uf)\n"
      ],
      "metadata": {
        "colab": {
          "base_uri": "https://localhost:8080/"
        },
        "id": "wdbDw9LGEnao",
        "outputId": "43ebe45c-2e52-47b9-b965-488ea68dc3ff"
      },
      "execution_count": 140,
      "outputs": [
        {
          "output_type": "stream",
          "name": "stdout",
          "text": [
            "Расчет БПФ...\n"
          ]
        }
      ]
    },
    {
      "cell_type": "markdown",
      "source": [
        "<h3>Построим сигнал</h3>"
      ],
      "metadata": {
        "id": "5mzKKmJ6ExwJ"
      }
    },
    {
      "cell_type": "code",
      "source": [
        "fig, ax = plt.subplots()\n",
        "ax.plot(t, u, color='tab:green')\n",
        "ax.set_xlabel(\"$t$, отн. ед.\", fontsize=10)\n",
        "ax.set_ylabel(\"$U(t)$, В\", fontsize=10)\n",
        "ax.set_xlim(0, T)"
      ],
      "metadata": {
        "colab": {
          "base_uri": "https://localhost:8080/",
          "height": 299
        },
        "id": "Ynbl5IwfE1Vr",
        "outputId": "8080b98e-c1e7-4eeb-9c84-32ed9383ad32"
      },
      "execution_count": 141,
      "outputs": [
        {
          "output_type": "execute_result",
          "data": {
            "text/plain": [
              "(0.0, 3.0)"
            ]
          },
          "metadata": {},
          "execution_count": 141
        },
        {
          "output_type": "display_data",
          "data": {
            "text/plain": [
              "<Figure size 432x288 with 1 Axes>"
            ],
            "image/png": "[encoded data removed]"
          },
          "metadata": {
            "needs_background": "light"
          }
        }
      ]
    },
    {
      "cell_type": "markdown",
      "source": [
        "<h3>Построим требуемый частотный спектр</h3>"
      ],
      "metadata": {
        "id": "iuyVVkD_E7Xl"
      }
    },
    {
      "cell_type": "code",
      "source": [
        "fig, ax = plt.subplots()\n",
        "ax.plot(freq[0:n//2], (np.hypot(spec.real, spec.imag)/n*2.0)[0:n//2])\n",
        "ax.plot(freq[0:n//2], (np.hypot(spec_lf.real, spec_lf.imag)/n*2.0)[0:n//2], '--')\n",
        "ax.plot(freq[0:n//2], (np.hypot(spec_uf.real, spec_uf.imag)/n*2.0)[0:n//2], '-.r')\n",
        "ax.set_xlabel(\"$f$, отн. ед.\", fontsize=10)\n",
        "ax.set_ylabel(\"$U(f)$, В\", fontsize=10)\n",
        "ax.set_xlim(-0.1, 10)"
      ],
      "metadata": {
        "colab": {
          "base_uri": "https://localhost:8080/",
          "height": 303
        },
        "id": "yQOHxwOhE7If",
        "outputId": "eaeae4f8-7d56-4f71-b019-759848070181"
      },
      "execution_count": 142,
      "outputs": [
        {
          "output_type": "execute_result",
          "data": {
            "text/plain": [
              "(-0.1, 10.0)"
            ]
          },
          "metadata": {},
          "execution_count": 142
        },
        {
          "output_type": "display_data",
          "data": {
            "text/plain": [
              "<Figure size 432x288 with 1 Axes>"
            ],
            "image/png": "[encoded data removed]"
          },
          "metadata": {
            "needs_background": "light"
          }
        }
      ]
    },
    {
      "cell_type": "markdown",
      "source": [
        "<h3>Пропущенный сигнал</h3>"
      ],
      "metadata": {
        "id": "tqnsCscwFAVi"
      }
    },
    {
      "cell_type": "code",
      "source": [
        "fig, ax = plt.subplots()\n",
        "ax.plot(t, sig_lf.real, label='ФНЧ')\n",
        "ax.plot(t, sig_pb.real, '--', label='ПФ')\n",
        "ax.plot(t, sig_hf.real, '-.', label='ФВЧ')\n",
        "ax.set_xlabel(\"$t$, отн. ед.\", fontsize=10)\n",
        "ax.set_ylabel(\"$U(t)$, В\", fontsize=10)\n",
        "ax.legend(loc='best')\n",
        "ax.set_xlim(0, 3)"
      ],
      "metadata": {
        "colab": {
          "base_uri": "https://localhost:8080/",
          "height": 299
        },
        "id": "VU1iCCHhFAio",
        "outputId": "8d2b7c69-b022-41f5-a7e7-87f5ce0e6437"
      },
      "execution_count": 143,
      "outputs": [
        {
          "output_type": "execute_result",
          "data": {
            "text/plain": [
              "(0.0, 3.0)"
            ]
          },
          "metadata": {},
          "execution_count": 143
        },
        {
          "output_type": "display_data",
          "data": {
            "text/plain": [
              "<Figure size 432x288 with 1 Axes>"
            ],
            "image/png": "[encoded data removed]"
          },
          "metadata": {
            "needs_background": "light"
          }
        }
      ]
    },
    {
      "cell_type": "markdown",
      "source": [
        "<h3>Частотный спектр для ФНЧ с 0 до 1\\t</h3>"
      ],
      "metadata": {
        "id": "H6ljwawaFDcQ"
      }
    },
    {
      "cell_type": "code",
      "source": [
        "fig, ax = plt.subplots()\n",
        "ax.plot(freq[0:n//2], (np.hypot(spec_lf.real, spec_lf.imag)/n*2.0)[0:n//2], '-', label='ФНЧ')\n",
        "ax.set_xlabel(\"$f$, отн. ед.\", fontsize=10)\n",
        "ax.set_ylabel(\"$U(f)$, В\", fontsize=10)\n",
        "ax.set_xlim(-0.1, 10)\n",
        "ax.legend(loc='best')"
      ],
      "metadata": {
        "colab": {
          "base_uri": "https://localhost:8080/",
          "height": 303
        },
        "id": "cB1gUU7_FDtg",
        "outputId": "5dae1d9b-0688-4c19-aff6-1b7b721942ca"
      },
      "execution_count": 144,
      "outputs": [
        {
          "output_type": "execute_result",
          "data": {
            "text/plain": [
              "<matplotlib.legend.Legend at 0x7f9bdeac1130>"
            ]
          },
          "metadata": {},
          "execution_count": 144
        },
        {
          "output_type": "display_data",
          "data": {
            "text/plain": [
              "<Figure size 432x288 with 1 Axes>"
            ],
            "image/png": "[encoded data removed]"
          },
          "metadata": {
            "needs_background": "light"
          }
        }
      ]
    }
  ]
}