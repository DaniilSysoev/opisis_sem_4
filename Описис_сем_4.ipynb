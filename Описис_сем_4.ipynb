{
  "nbformat": 4,
  "nbformat_minor": 0,
  "metadata": {
    "colab": {
      "provenance": [],
      "authorship_tag": "ABX9TyPkbb4spRK1CTkPNTC7jpKH",
      "include_colab_link": true
    },
    "kernelspec": {
      "name": "python3",
      "display_name": "Python 3"
    },
    "language_info": {
      "name": "python"
    }
  },
  "cells": [
    {
      "cell_type": "markdown",
      "metadata": {
        "id": "view-in-github",
        "colab_type": "text"
      },
      "source": [
        "<a href=\"https://colab.research.google.com/github/DaniilSysoev/opisis_sem_4/blob/main/%D0%9E%D0%BF%D0%B8%D1%81%D0%B8%D1%81_%D1%81%D0%B5%D0%BC_4.ipynb\" target=\"_parent\"><img src=\"https://colab.research.google.com/assets/colab-badge.svg\" alt=\"Open In Colab\"/></a>"
      ]
    },
    {
      "cell_type": "markdown",
      "source": [
        "<h1>Фильтрация сигналов. Понятие идеального фильтра. Реализация с использованием преобразования Фурье.</h1>"
      ],
      "metadata": {
        "id": "_GEodUmp1toV"
      }
    },
    {
      "cell_type": "markdown",
      "source": [
        "<h2>Задание: При помощи модели фильтра, построенной на основе прямого и обратного преобразования Фурье, получить сигналы и их спектры после прохождения сигнала через ФНЧ, ПФ и ФВЧ с выделением по одной гармонической составляющей исходного сигнала.</h2>"
      ],
      "metadata": {
        "id": "OBRkzNat10KZ"
      }
    },
    {
      "cell_type": "markdown",
      "source": [
        "<h3>Введем необходимые для рассчетов библиотеки</h3>"
      ],
      "metadata": {
        "id": "iWD53--26X0K"
      }
    },
    {
      "cell_type": "code",
      "execution_count": 16,
      "metadata": {
        "id": "rmnanwQD1rUJ"
      },
      "outputs": [],
      "source": [
        "import numpy as np\n",
        "from math import *\n",
        "import matplotlib.pyplot as plt"
      ]
    },
    {
      "cell_type": "markdown",
      "source": [
        "<h3>Добавим функцию построения сигнала</h3>"
      ],
      "metadata": {
        "id": "426hQlVQ6dVo"
      }
    },
    {
      "cell_type": "code",
      "source": [
        "def signal(x):\n",
        "    return 1 + np.sin(2.0*pi*x) + 2.0 * np.cos(4.0*pi*x) + 0.5 * np.cos(6.0*pi*x)"
      ],
      "metadata": {
        "id": "kSYHwx9V6hjQ"
      },
      "execution_count": 2,
      "outputs": []
    },
    {
      "cell_type": "markdown",
      "source": [
        "<h3>Добавим функцию фильтра</h3>"
      ],
      "metadata": {
        "id": "H598ByE66i1W"
      }
    },
    {
      "cell_type": "code",
      "source": [
        "def filter(time, signal, fl, fh):\n",
        "    n = len(signal)\n",
        "    freq = np.fft.fftfreq(n, time[1]-time[0])\n",
        "    spectr = np.fft.fft(signal)\n",
        "    for i in range(n):\n",
        "        if not fl <= abs(freq[i]) <= fh:\n",
        "            spectr[i] *= 0+0j\n",
        "    return np.fft.ifft(spectr)"
      ],
      "metadata": {
        "id": "yiriA5qo7JR9"
      },
      "execution_count": 3,
      "outputs": []
    },
    {
      "cell_type": "markdown",
      "source": [
        "<h3>Введем необходимые переменные, для вычисления сигнала</h3>"
      ],
      "metadata": {
        "id": "KaTreeCh7NS-"
      }
    },
    {
      "cell_type": "markdown",
      "source": [
        "<h4>Входыне данные</h4>\n",
        "<h5>Частота 1-ой гармоники сигнала: 10<br>Временной интервал: 5<br>Число временных отсчетов: 1000000</h5>"
      ],
      "metadata": {
        "id": "4k-PQVN-7l5q"
      }
    },
    {
      "cell_type": "code",
      "source": [
        "f = float(input('Частота 1-ой гармоники сигнала '))\n",
        "T = float(input('Временной интервал '))\n",
        "n = int(input('Число временных отсчетов '))"
      ],
      "metadata": {
        "colab": {
          "base_uri": "https://localhost:8080/"
        },
        "id": "Wc2s_Wgb7kDq",
        "outputId": "80113701-379e-405b-f1db-bf7a69caa87e"
      },
      "execution_count": 4,
      "outputs": [
        {
          "name": "stdout",
          "output_type": "stream",
          "text": [
            "Частота 1-ой гармоники сигнала 10\n",
            "Временной интервал 5\n",
            "Число временных отсчетов 1000000\n"
          ]
        }
      ]
    },
    {
      "cell_type": "markdown",
      "source": [
        "<h3>Построим временную шкалу и сигнал по ней</h3>"
      ],
      "metadata": {
        "id": "fH6noyvD9Chj"
      }
    },
    {
      "cell_type": "code",
      "source": [
        "t = np.linspace(0, T, n)\n",
        "u = signal(f*t)"
      ],
      "metadata": {
        "id": "sw50Oan79HQH"
      },
      "execution_count": 6,
      "outputs": []
    },
    {
      "cell_type": "markdown",
      "source": [
        "<h3>Произведем рассчет БПФ и введем частотную шкалу</h3>"
      ],
      "metadata": {
        "id": "WkCFwM339OSc"
      }
    },
    {
      "cell_type": "code",
      "source": [
        "spec = np.fft.fft(u)\n",
        "freq = np.fft.fftfreq(n, T/n)"
      ],
      "metadata": {
        "id": "I5f2FbOi9TF1"
      },
      "execution_count": 7,
      "outputs": []
    },
    {
      "cell_type": "markdown",
      "source": [
        "<h3>Произведем рассчет для фильтра низких частот, полосного фильтра и фильтра высоких частот</h3>"
      ],
      "metadata": {
        "id": "6FWKjzFZ9VHn"
      }
    },
    {
      "cell_type": "code",
      "source": [
        "print('Расчет ФНЧ...')\n",
        "sig_lf = filter(t, u, 0.5*f, 1.5*f)\n",
        "print('Расчет ПФ...')\n",
        "sig_pb = filter(t, u, 1.5*f, 2.5*f)\n",
        "print('Расчет ФВЧ...')\n",
        "sig_hf = filter(t, u, 2.5*f, 4*f)"
      ],
      "metadata": {
        "colab": {
          "base_uri": "https://localhost:8080/"
        },
        "id": "gzDO73Iu9b_A",
        "outputId": "29a0f6c2-ed6b-421e-c084-9cbbb044cc8b"
      },
      "execution_count": 8,
      "outputs": [
        {
          "output_type": "stream",
          "name": "stdout",
          "text": [
            "Расчет ФНЧ...\n",
            "Расчет ПФ...\n",
            "Расчет ФВЧ...\n"
          ]
        }
      ]
    },
    {
      "cell_type": "markdown",
      "source": [
        "<h3>Произведем рассчет БПФ для полученных сигналов, прошедших через фильтр</h3>"
      ],
      "metadata": {
        "id": "n8FKcFkQ9e3X"
      }
    },
    {
      "cell_type": "code",
      "source": [
        "spec_lf = np.fft.fft(sig_lf)\n",
        "spec_pb = np.fft.fft(sig_pb)\n",
        "spec_hf = np.fft.fft(sig_hf)"
      ],
      "metadata": {
        "id": "IeuUjlh09mn-"
      },
      "execution_count": 9,
      "outputs": []
    },
    {
      "cell_type": "markdown",
      "source": [],
      "metadata": {
        "id": "oV63wjRh9pFS"
      }
    },
    {
      "cell_type": "markdown",
      "source": [
        "<h3>Построим модель исходного сигнала</h3>"
      ],
      "metadata": {
        "id": "O754PEd99ykD"
      }
    },
    {
      "cell_type": "code",
      "source": [
        "fig, ax = plt.subplots()\n",
        "ax.plot(t, u, color='tab:green')\n",
        "ax.set_xlabel(\"$t$, отн. ед.\", fontsize=10)\n",
        "ax.set_ylabel(\"$U(t)$, В\", fontsize=10)\n",
        "ax.set_xlim(0, 1/f)"
      ],
      "metadata": {
        "colab": {
          "base_uri": "https://localhost:8080/",
          "height": 299
        },
        "id": "DQgdZOyy9qYX",
        "outputId": "3c0f5443-7d5a-4225-cebc-3af654456f50"
      },
      "execution_count": 15,
      "outputs": [
        {
          "output_type": "execute_result",
          "data": {
            "text/plain": [
              "(0.0, 0.1)"
            ]
          },
          "metadata": {},
          "execution_count": 15
        },
        {
          "output_type": "display_data",
          "data": {
            "text/plain": [
              "<Figure size 432x288 with 1 Axes>"
            ],
            "image/png": "[encoded data removed]"
          },
          "metadata": {
            "needs_background": "light"
          }
        }
      ]
    },
    {
      "cell_type": "markdown",
      "source": [
        "<h3>Построим спектр заданного сигнала</h3>"
      ],
      "metadata": {
        "id": "KTwlmuuq92oG"
      }
    },
    {
      "cell_type": "code",
      "source": [
        "fig, ax = plt.subplots()\n",
        "ax.plot(freq[0:n//2], (np.hypot(spec.real, spec.imag)/n*2.0)[0:n//2])\n",
        "ax.set_xlabel(\"$f$, отн. ед.\", fontsize=10)\n",
        "ax.set_ylabel(\"$U(f)$, В\", fontsize=10)\n",
        "ax.set_xlim(-0.1*f, 4*f)"
      ],
      "metadata": {
        "colab": {
          "base_uri": "https://localhost:8080/",
          "height": 299
        },
        "id": "MW1Xl7KV-2Sh",
        "outputId": "efc6a748-08b3-4b74-e71b-421b924e3919"
      },
      "execution_count": 17,
      "outputs": [
        {
          "output_type": "execute_result",
          "data": {
            "text/plain": [
              "(-1.0, 40.0)"
            ]
          },
          "metadata": {},
          "execution_count": 17
        },
        {
          "output_type": "display_data",
          "data": {
            "text/plain": [
              "<Figure size 432x288 with 1 Axes>"
            ],
            "image/png": "[encoded data removed]"
          },
          "metadata": {
            "needs_background": "light"
          }
        }
      ]
    },
    {
      "cell_type": "markdown",
      "source": [
        "<h3>Построим модели сигнала, прошедшего через каждый фильтр</h3>"
      ],
      "metadata": {
        "id": "9Sw5_YRt-8WD"
      }
    },
    {
      "cell_type": "markdown",
      "source": [
        "<h4>Фильтр низких частот</h4>"
      ],
      "metadata": {
        "id": "6qGuBsKR_SvZ"
      }
    },
    {
      "cell_type": "code",
      "source": [
        "fig, ax = plt.subplots()\n",
        "ax.plot(t, sig_lf.real, label='ФНЧ')\n",
        "ax.set_xlabel(\"$t$, отн. ед.\", fontsize=10)\n",
        "ax.set_ylabel(\"$U(t)$, В\", fontsize=10)\n",
        "ax.legend(loc='best')\n",
        "ax.set_xlim(0, 1/f)"
      ],
      "metadata": {
        "colab": {
          "base_uri": "https://localhost:8080/",
          "height": 299
        },
        "id": "_peaufR1_EL7",
        "outputId": "cc1ebaa2-9dce-4c61-b380-68290bd0480f"
      },
      "execution_count": 20,
      "outputs": [
        {
          "output_type": "execute_result",
          "data": {
            "text/plain": [
              "(0.0, 0.1)"
            ]
          },
          "metadata": {},
          "execution_count": 20
        },
        {
          "output_type": "display_data",
          "data": {
            "text/plain": [
              "<Figure size 432x288 with 1 Axes>"
            ],
            "image/png": "[encoded data removed]"
          },
          "metadata": {
            "needs_background": "light"
          }
        }
      ]
    },
    {
      "cell_type": "markdown",
      "source": [
        "<h4>Полосный фильтр</h4>"
      ],
      "metadata": {
        "id": "-8DMMTka_Vle"
      }
    },
    {
      "cell_type": "code",
      "source": [
        "fig, ax = plt.subplots()\n",
        "ax.plot(t, sig_pb.real, label='ПФ')\n",
        "ax.set_xlabel(\"$t$, отн. ед.\", fontsize=10)\n",
        "ax.set_ylabel(\"$U(t)$, В\", fontsize=10)\n",
        "ax.legend(loc='best')\n",
        "ax.set_xlim(0, 1/f)\n"
      ],
      "metadata": {
        "colab": {
          "base_uri": "https://localhost:8080/",
          "height": 299
        },
        "id": "wpK192G5_ZzG",
        "outputId": "5c00111f-6ca0-4dba-d0a8-d0900b60ac7f"
      },
      "execution_count": 22,
      "outputs": [
        {
          "output_type": "execute_result",
          "data": {
            "text/plain": [
              "(0.0, 0.1)"
            ]
          },
          "metadata": {},
          "execution_count": 22
        },
        {
          "output_type": "display_data",
          "data": {
            "text/plain": [
              "<Figure size 432x288 with 1 Axes>"
            ],
            "image/png": "[encoded data removed]"
          },
          "metadata": {
            "needs_background": "light"
          }
        }
      ]
    },
    {
      "cell_type": "markdown",
      "source": [
        "<h4>Фильтр высоких частот</h4>"
      ],
      "metadata": {
        "id": "YFnMraxu_gVs"
      }
    },
    {
      "cell_type": "code",
      "source": [
        "fig, ax = plt.subplots()\n",
        "ax.plot(t, sig_hf.real, label='ФВЧ')\n",
        "ax.set_xlabel(\"$t$, отн. ед.\", fontsize=10)\n",
        "ax.set_ylabel(\"$U(t)$, В\", fontsize=10)\n",
        "ax.legend(loc='best')\n",
        "ax.set_xlim(0, 1/f)\n"
      ],
      "metadata": {
        "colab": {
          "base_uri": "https://localhost:8080/",
          "height": 299
        },
        "id": "7bpi3AyR_jtH",
        "outputId": "8326cd74-9cab-409c-ac40-b08801b42d6b"
      },
      "execution_count": 23,
      "outputs": [
        {
          "output_type": "execute_result",
          "data": {
            "text/plain": [
              "(0.0, 0.1)"
            ]
          },
          "metadata": {},
          "execution_count": 23
        },
        {
          "output_type": "display_data",
          "data": {
            "text/plain": [
              "<Figure size 432x288 with 1 Axes>"
            ],
            "image/png": "[encoded data removed]"
          },
          "metadata": {
            "needs_background": "light"
          }
        }
      ]
    },
    {
      "cell_type": "markdown",
      "source": [
        "<h3>Как мы видим, пройдя через каждый фильтр у нас осталась соответствующая частотная составляющая. Поэтому сигнал имеет вид синусоиды с определенной частотой, которую фильтр пропустил</h3>"
      ],
      "metadata": {
        "id": "LitdE4jY_m7x"
      }
    },
    {
      "cell_type": "markdown",
      "source": [
        "<h3>Построим спектры для каждого фильтра</h3>"
      ],
      "metadata": {
        "id": "4O4TfylJ_2V4"
      }
    },
    {
      "cell_type": "markdown",
      "source": [
        "<h4>Фильтр низких частот</h4>"
      ],
      "metadata": {
        "id": "k-wBOfSj_6cj"
      }
    },
    {
      "cell_type": "code",
      "source": [
        "fig, ax = plt.subplots()\n",
        "ax.plot(freq[0:n//2], (np.hypot(spec_lf.real, spec_lf.imag)/n*2.0)[0:n//2], label='ФНЧ')\n",
        "ax.set_xlabel(\"$f$, отн. ед.\", fontsize=10)\n",
        "ax.set_ylabel(\"$U(f)$, В\", fontsize=10)\n",
        "ax.set_xlim(-0.1*f, 4*f)\n",
        "ax.legend(loc='best')"
      ],
      "metadata": {
        "colab": {
          "base_uri": "https://localhost:8080/",
          "height": 299
        },
        "id": "86EX-u5K_0MN",
        "outputId": "d2d2a4c0-6d88-4b54-bc3f-9e370401396d"
      },
      "execution_count": 26,
      "outputs": [
        {
          "output_type": "execute_result",
          "data": {
            "text/plain": [
              "<matplotlib.legend.Legend at 0x7fa7fc3870a0>"
            ]
          },
          "metadata": {},
          "execution_count": 26
        },
        {
          "output_type": "display_data",
          "data": {
            "text/plain": [
              "<Figure size 432x288 with 1 Axes>"
            ],
            "image/png": "[encoded data removed]"
          },
          "metadata": {
            "needs_background": "light"
          }
        }
      ]
    },
    {
      "cell_type": "markdown",
      "source": [
        "<h4>Полосный фильтр</h4>"
      ],
      "metadata": {
        "id": "CF3qUrSEAGAA"
      }
    },
    {
      "cell_type": "code",
      "source": [
        "fig, ax = plt.subplots()\n",
        "ax.plot(freq[0:n//2], (np.hypot(spec_pb.real, spec_pb.imag)/n*2.0)[0:n//2], label='ПФ')\n",
        "ax.set_xlabel(\"$f$, отн. ед.\", fontsize=10)\n",
        "ax.set_ylabel(\"$U(f)$, В\", fontsize=10)\n",
        "ax.set_xlim(-0.1*f, 4*f)\n",
        "ax.legend(loc='best')"
      ],
      "metadata": {
        "colab": {
          "base_uri": "https://localhost:8080/",
          "height": 299
        },
        "id": "MunU3XsyAJDT",
        "outputId": "abf594a4-e3c3-4175-e956-d42e17696ee6"
      },
      "execution_count": 27,
      "outputs": [
        {
          "output_type": "execute_result",
          "data": {
            "text/plain": [
              "<matplotlib.legend.Legend at 0x7fa7fc2b5c70>"
            ]
          },
          "metadata": {},
          "execution_count": 27
        },
        {
          "output_type": "display_data",
          "data": {
            "text/plain": [
              "<Figure size 432x288 with 1 Axes>"
            ],
            "image/png": "[encoded data removed]"
          },
          "metadata": {
            "needs_background": "light"
          }
        }
      ]
    },
    {
      "cell_type": "markdown",
      "source": [
        "<h4>Фильтр высоких частот</h4>"
      ],
      "metadata": {
        "id": "BtpMxjXAALpJ"
      }
    },
    {
      "cell_type": "code",
      "source": [
        "fig, ax = plt.subplots()\n",
        "ax.plot(freq[0:n//2], (np.hypot(spec_hf.real, spec_hf.imag)/n*2.0)[0:n//2], label='ФВЧ')\n",
        "ax.set_xlabel(\"$f$, отн. ед.\", fontsize=10)\n",
        "ax.set_ylabel(\"$U(f)$, В\", fontsize=10)\n",
        "ax.set_xlim(-0.1*f, 4*f)\n",
        "ax.legend(loc='best')"
      ],
      "metadata": {
        "colab": {
          "base_uri": "https://localhost:8080/",
          "height": 299
        },
        "id": "xtD53DCHAOrb",
        "outputId": "7ff88a52-9348-4302-9d9e-69f158d08ed1"
      },
      "execution_count": 28,
      "outputs": [
        {
          "output_type": "execute_result",
          "data": {
            "text/plain": [
              "<matplotlib.legend.Legend at 0x7fa7fc358b80>"
            ]
          },
          "metadata": {},
          "execution_count": 28
        },
        {
          "output_type": "display_data",
          "data": {
            "text/plain": [
              "<Figure size 432x288 with 1 Axes>"
            ],
            "image/png": "[encoded data removed]"
          },
          "metadata": {
            "needs_background": "light"
          }
        }
      ]
    }
  ]
}